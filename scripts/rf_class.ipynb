{
 "cells": [
  {
   "cell_type": "markdown",
   "metadata": {},
   "source": [
    "# Tennis Stroke Classification (Baseline Random Forest)\n",
    "\n",
    "Assumptions:\n",
    "- Columns include:\n",
    "  - `stroke_label` (y target class)\n",
    "  - `peak_abs_X`, `peak_abs_Y`, `peak_abs_Z`\n",
    "  - `sign_Z_at_peak`\n",
    "  - `duration_ms`\n",
    "  - ratio features: `Z_over_X`, `Z_over_Y`, `X_over_Y`\n"
   ]
  },
  {
   "cell_type": "code",
   "execution_count": null,
   "metadata": {},
   "outputs": [
    {
     "name": "stdout",
     "output_type": "stream",
     "text": [
      "Loaded features shape: (20, 11)\n"
     ]
    },
    {
     "data": {
      "text/html": [
       "<div>\n",
       "<style scoped>\n",
       "    .dataframe tbody tr th:only-of-type {\n",
       "        vertical-align: middle;\n",
       "    }\n",
       "\n",
       "    .dataframe tbody tr th {\n",
       "        vertical-align: top;\n",
       "    }\n",
       "\n",
       "    .dataframe thead th {\n",
       "        text-align: right;\n",
       "    }\n",
       "</style>\n",
       "<table border=\"1\" class=\"dataframe\">\n",
       "  <thead>\n",
       "    <tr style=\"text-align: right;\">\n",
       "      <th></th>\n",
       "      <th>swing_file</th>\n",
       "      <th>session_id</th>\n",
       "      <th>stroke_label</th>\n",
       "      <th>peak_abs_X</th>\n",
       "      <th>peak_abs_Y</th>\n",
       "      <th>peak_abs_Z</th>\n",
       "      <th>sign_Z_at_peak</th>\n",
       "      <th>duration_ms</th>\n",
       "      <th>Z_over_X</th>\n",
       "      <th>Z_over_Y</th>\n",
       "      <th>X_over_Y</th>\n",
       "    </tr>\n",
       "  </thead>\n",
       "  <tbody>\n",
       "    <tr>\n",
       "      <th>0</th>\n",
       "      <td>../processed/swings_segments/backhand/backhand...</td>\n",
       "      <td>backhands_watch-right</td>\n",
       "      <td>backhand</td>\n",
       "      <td>7.848593</td>\n",
       "      <td>9.741038</td>\n",
       "      <td>9.918324</td>\n",
       "      <td>-1.0</td>\n",
       "      <td>3900.0</td>\n",
       "      <td>1.263707</td>\n",
       "      <td>1.018200</td>\n",
       "      <td>0.805725</td>\n",
       "    </tr>\n",
       "    <tr>\n",
       "      <th>1</th>\n",
       "      <td>../processed/swings_segments/backhand/backhand...</td>\n",
       "      <td>backhands_watch-right</td>\n",
       "      <td>backhand</td>\n",
       "      <td>10.122697</td>\n",
       "      <td>11.718678</td>\n",
       "      <td>13.072875</td>\n",
       "      <td>-1.0</td>\n",
       "      <td>3550.0</td>\n",
       "      <td>1.291442</td>\n",
       "      <td>1.115559</td>\n",
       "      <td>0.863809</td>\n",
       "    </tr>\n",
       "    <tr>\n",
       "      <th>2</th>\n",
       "      <td>../processed/swings_segments/backhand/backhand...</td>\n",
       "      <td>backhands_watch-right</td>\n",
       "      <td>backhand</td>\n",
       "      <td>8.459282</td>\n",
       "      <td>11.353635</td>\n",
       "      <td>12.163086</td>\n",
       "      <td>-1.0</td>\n",
       "      <td>3510.0</td>\n",
       "      <td>1.437839</td>\n",
       "      <td>1.071294</td>\n",
       "      <td>0.745073</td>\n",
       "    </tr>\n",
       "    <tr>\n",
       "      <th>3</th>\n",
       "      <td>../processed/swings_segments/backhand/backhand...</td>\n",
       "      <td>backhands_watch-right</td>\n",
       "      <td>backhand</td>\n",
       "      <td>8.078526</td>\n",
       "      <td>11.166613</td>\n",
       "      <td>12.054246</td>\n",
       "      <td>-1.0</td>\n",
       "      <td>3760.0</td>\n",
       "      <td>1.492134</td>\n",
       "      <td>1.079490</td>\n",
       "      <td>0.723454</td>\n",
       "    </tr>\n",
       "    <tr>\n",
       "      <th>4</th>\n",
       "      <td>../processed/swings_segments/backhand/backhand...</td>\n",
       "      <td>backhands_watch-right</td>\n",
       "      <td>backhand</td>\n",
       "      <td>9.223503</td>\n",
       "      <td>10.771327</td>\n",
       "      <td>11.978202</td>\n",
       "      <td>-1.0</td>\n",
       "      <td>3530.0</td>\n",
       "      <td>1.298661</td>\n",
       "      <td>1.112045</td>\n",
       "      <td>0.856301</td>\n",
       "    </tr>\n",
       "  </tbody>\n",
       "</table>\n",
       "</div>"
      ],
      "text/plain": [
       "                                          swing_file             session_id  \\\n",
       "0  ../processed/swings_segments/backhand/backhand...  backhands_watch-right   \n",
       "1  ../processed/swings_segments/backhand/backhand...  backhands_watch-right   \n",
       "2  ../processed/swings_segments/backhand/backhand...  backhands_watch-right   \n",
       "3  ../processed/swings_segments/backhand/backhand...  backhands_watch-right   \n",
       "4  ../processed/swings_segments/backhand/backhand...  backhands_watch-right   \n",
       "\n",
       "  stroke_label  peak_abs_X  peak_abs_Y  peak_abs_Z  sign_Z_at_peak  \\\n",
       "0     backhand    7.848593    9.741038    9.918324            -1.0   \n",
       "1     backhand   10.122697   11.718678   13.072875            -1.0   \n",
       "2     backhand    8.459282   11.353635   12.163086            -1.0   \n",
       "3     backhand    8.078526   11.166613   12.054246            -1.0   \n",
       "4     backhand    9.223503   10.771327   11.978202            -1.0   \n",
       "\n",
       "   duration_ms  Z_over_X  Z_over_Y  X_over_Y  \n",
       "0       3900.0  1.263707  1.018200  0.805725  \n",
       "1       3550.0  1.291442  1.115559  0.863809  \n",
       "2       3510.0  1.437839  1.071294  0.745073  \n",
       "3       3760.0  1.492134  1.079490  0.723454  \n",
       "4       3530.0  1.298661  1.112045  0.856301  "
      ]
     },
     "execution_count": 3,
     "metadata": {},
     "output_type": "execute_result"
    }
   ],
   "source": [
    "import os\n",
    "import numpy as np\n",
    "import pandas as pd\n",
    "import matplotlib.pyplot as plt\n",
    "\n",
    "from sklearn.model_selection import train_test_split\n",
    "from sklearn.ensemble import RandomForestClassifier\n",
    "from sklearn.metrics import classification_report, confusion_matrix, ConfusionMatrixDisplay, accuracy_score\n",
    "\n",
    "FEATURES_PATH = \"../processed/swing_features.csv\"\n",
    "\n",
    "df = pd.read_csv(FEATURES_PATH)\n",
    "\n",
    "print(\"Loaded features shape:\", df.shape)\n",
    "df.head()"
   ]
  },
  {
   "cell_type": "markdown",
   "metadata": {},
   "source": [
    "## 1. Exploratory Analysis"
   ]
  },
  {
   "cell_type": "code",
   "execution_count": 4,
   "metadata": {},
   "outputs": [
    {
     "name": "stdout",
     "output_type": "stream",
     "text": [
      "Class counts:\n",
      " stroke_label\n",
      "forehand    7\n",
      "serve       7\n",
      "backhand    6\n",
      "Name: count, dtype: int64\n"
     ]
    },
    {
     "data": {
      "image/png": "[encoded data removed]",
      "text/plain": [
       "<Figure size 400x300 with 1 Axes>"
      ]
     },
     "metadata": {},
     "output_type": "display_data"
    }
   ],
   "source": [
    "class_counts = df[\"stroke_label\"].value_counts()\n",
    "print(\"Class counts:\\n\", class_counts)\n",
    "\n",
    "plt.figure(figsize=(4,3))\n",
    "plt.bar(class_counts.index, class_counts.values)\n",
    "plt.title(\"Stroke label counts\")\n",
    "plt.xlabel(\"stroke_label\")\n",
    "plt.ylabel(\"count\")\n",
    "plt.show()"
   ]
  },
  {
   "cell_type": "markdown",
   "metadata": {},
   "source": [
    "## 2. Select features and target\n",
    "Features\n",
    "- Raw magnitudes (`peak_abs_X`, `peak_abs_Y`, `peak_abs_Z`)\n",
    "- Direction info (`sign_Z_at_peak`)\n",
    "- Ratios (`Z_over_X`, `Z_over_Y`, `X_over_Y`)\n",
    "- Timing (`duration_ms`)\n",
    "\n",
    "y is `stroke_label`."
   ]
  },
  {
   "cell_type": "code",
   "execution_count": null,
   "metadata": {},
   "outputs": [
    {
     "name": "stdout",
     "output_type": "stream",
     "text": [
      "X shape: (20, 8)\n",
      "y shape: (20,)\n"
     ]
    },
    {
     "data": {
      "text/html": [
       "<div>\n",
       "<style scoped>\n",
       "    .dataframe tbody tr th:only-of-type {\n",
       "        vertical-align: middle;\n",
       "    }\n",
       "\n",
       "    .dataframe tbody tr th {\n",
       "        vertical-align: top;\n",
       "    }\n",
       "\n",
       "    .dataframe thead th {\n",
       "        text-align: right;\n",
       "    }\n",
       "</style>\n",
       "<table border=\"1\" class=\"dataframe\">\n",
       "  <thead>\n",
       "    <tr style=\"text-align: right;\">\n",
       "      <th></th>\n",
       "      <th>peak_abs_X</th>\n",
       "      <th>peak_abs_Y</th>\n",
       "      <th>peak_abs_Z</th>\n",
       "      <th>sign_Z_at_peak</th>\n",
       "      <th>Z_over_X</th>\n",
       "      <th>Z_over_Y</th>\n",
       "      <th>X_over_Y</th>\n",
       "      <th>duration_ms</th>\n",
       "    </tr>\n",
       "  </thead>\n",
       "  <tbody>\n",
       "    <tr>\n",
       "      <th>0</th>\n",
       "      <td>7.848593</td>\n",
       "      <td>9.741038</td>\n",
       "      <td>9.918324</td>\n",
       "      <td>-1.0</td>\n",
       "      <td>1.263707</td>\n",
       "      <td>1.018200</td>\n",
       "      <td>0.805725</td>\n",
       "      <td>3900.0</td>\n",
       "    </tr>\n",
       "    <tr>\n",
       "      <th>1</th>\n",
       "      <td>10.122697</td>\n",
       "      <td>11.718678</td>\n",
       "      <td>13.072875</td>\n",
       "      <td>-1.0</td>\n",
       "      <td>1.291442</td>\n",
       "      <td>1.115559</td>\n",
       "      <td>0.863809</td>\n",
       "      <td>3550.0</td>\n",
       "    </tr>\n",
       "    <tr>\n",
       "      <th>2</th>\n",
       "      <td>8.459282</td>\n",
       "      <td>11.353635</td>\n",
       "      <td>12.163086</td>\n",
       "      <td>-1.0</td>\n",
       "      <td>1.437839</td>\n",
       "      <td>1.071294</td>\n",
       "      <td>0.745073</td>\n",
       "      <td>3510.0</td>\n",
       "    </tr>\n",
       "    <tr>\n",
       "      <th>3</th>\n",
       "      <td>8.078526</td>\n",
       "      <td>11.166613</td>\n",
       "      <td>12.054246</td>\n",
       "      <td>-1.0</td>\n",
       "      <td>1.492134</td>\n",
       "      <td>1.079490</td>\n",
       "      <td>0.723454</td>\n",
       "      <td>3760.0</td>\n",
       "    </tr>\n",
       "    <tr>\n",
       "      <th>4</th>\n",
       "      <td>9.223503</td>\n",
       "      <td>10.771327</td>\n",
       "      <td>11.978202</td>\n",
       "      <td>-1.0</td>\n",
       "      <td>1.298661</td>\n",
       "      <td>1.112045</td>\n",
       "      <td>0.856301</td>\n",
       "      <td>3530.0</td>\n",
       "    </tr>\n",
       "  </tbody>\n",
       "</table>\n",
       "</div>"
      ],
      "text/plain": [
       "   peak_abs_X  peak_abs_Y  peak_abs_Z  sign_Z_at_peak  Z_over_X  Z_over_Y  \\\n",
       "0    7.848593    9.741038    9.918324            -1.0  1.263707  1.018200   \n",
       "1   10.122697   11.718678   13.072875            -1.0  1.291442  1.115559   \n",
       "2    8.459282   11.353635   12.163086            -1.0  1.437839  1.071294   \n",
       "3    8.078526   11.166613   12.054246            -1.0  1.492134  1.079490   \n",
       "4    9.223503   10.771327   11.978202            -1.0  1.298661  1.112045   \n",
       "\n",
       "   X_over_Y  duration_ms  \n",
       "0  0.805725       3900.0  \n",
       "1  0.863809       3550.0  \n",
       "2  0.745073       3510.0  \n",
       "3  0.723454       3760.0  \n",
       "4  0.856301       3530.0  "
      ]
     },
     "execution_count": 5,
     "metadata": {},
     "output_type": "execute_result"
    }
   ],
   "source": [
    "feature_cols = [\n",
    "    \"peak_abs_X\",\n",
    "    \"peak_abs_Y\",\n",
    "    \"peak_abs_Z\",\n",
    "    \"sign_Z_at_peak\",\n",
    "    \"Z_over_X\",\n",
    "    \"Z_over_Y\",\n",
    "    \"X_over_Y\",\n",
    "    \"duration_ms\"\n",
    "]\n",
    "\n",
    "X = df[feature_cols].copy()\n",
    "\n",
    "y = df[\"stroke_label\"].astype(str)\n",
    "\n",
    "print(\"X shape:\", X.shape)\n",
    "print(\"y shape:\", y.shape)\n",
    "X.head()"
   ]
  },
  {
   "cell_type": "markdown",
   "metadata": {},
   "source": [
    "## 3. Split into train/test\n"
   ]
  },
  {
   "cell_type": "code",
   "execution_count": 6,
   "metadata": {},
   "outputs": [
    {
     "name": "stdout",
     "output_type": "stream",
     "text": [
      "Train size: 14\n",
      "Test size: 6\n"
     ]
    }
   ],
   "source": [
    "X_train, X_test, y_train, y_test = train_test_split(\n",
    "    X, y,\n",
    "    test_size=0.3,\n",
    "    random_state=42,\n",
    "    stratify=y  # keep class balance similar in train/test\n",
    ")\n",
    "\n",
    "print(\"Train size:\", X_train.shape[0])\n",
    "print(\"Test size:\", X_test.shape[0])"
   ]
  },
  {
   "cell_type": "markdown",
   "metadata": {},
   "source": [
    "## 4. Train a baseline classifier\n",
    "\n",
    "RandomForest:\n",
    "- handles non-linear boundaries\n",
    "- handles different feature scales without normalization\n",
    "- gives feature importances\n",
    "\n",
    "Just to test if it is possible to separate serve vs forehand vs backhand at all"
   ]
  },
  {
   "cell_type": "code",
   "execution_count": 7,
   "metadata": {},
   "outputs": [
    {
     "name": "stdout",
     "output_type": "stream",
     "text": [
      "Test Accuracy: 1.000\n",
      "\n",
      "Classification report:\n",
      "\n",
      "              precision    recall  f1-score   support\n",
      "\n",
      "    backhand       1.00      1.00      1.00         2\n",
      "    forehand       1.00      1.00      1.00         2\n",
      "       serve       1.00      1.00      1.00         2\n",
      "\n",
      "    accuracy                           1.00         6\n",
      "   macro avg       1.00      1.00      1.00         6\n",
      "weighted avg       1.00      1.00      1.00         6\n",
      "\n"
     ]
    }
   ],
   "source": [
    "clf = RandomForestClassifier(\n",
    "    n_estimators=200,\n",
    "    random_state=42\n",
    ")\n",
    "clf.fit(X_train, y_train)\n",
    "\n",
    "y_pred = clf.predict(X_test)\n",
    "\n",
    "acc = accuracy_score(y_test, y_pred)\n",
    "print(f\"Test Accuracy: {acc:.3f}\\n\")\n",
    "\n",
    "print(\"Classification report:\\n\")\n",
    "print(classification_report(y_test, y_pred))"
   ]
  },
  {
   "cell_type": "markdown",
   "metadata": {},
   "source": [
    "## 5. Confusion matrix\n",
    "\n",
    "Shows which strokes are getting mixed up"
   ]
  },
  {
   "cell_type": "code",
   "execution_count": 8,
   "metadata": {},
   "outputs": [
    {
     "data": {
      "text/plain": [
       "<Figure size 400x400 with 0 Axes>"
      ]
     },
     "metadata": {},
     "output_type": "display_data"
    },
    {
     "data": {
      "image/png": "[encoded data removed]",
      "text/plain": [
       "<Figure size 640x480 with 2 Axes>"
      ]
     },
     "metadata": {},
     "output_type": "display_data"
    }
   ],
   "source": [
    "cm = confusion_matrix(y_test, y_pred, labels=clf.classes_)\n",
    "disp = ConfusionMatrixDisplay(confusion_matrix=cm, display_labels=clf.classes_)\n",
    "\n",
    "plt.figure(figsize=(4,4))\n",
    "disp.plot(values_format='d')\n",
    "plt.title(\"Confusion Matrix (Test Set)\")\n",
    "plt.show()"
   ]
  },
  {
   "cell_type": "markdown",
   "metadata": {},
   "source": [
    "## 6. Feature importance\n",
    "\n",
    "Most prominant features:\n",
    "- `peak_abs_X` high for serves if serves are driven by pronation / forearm snap.\n",
    "- `peak_abs_Z` and `sign_Z_at_peak` for forehand/backhand separation."
   ]
  },
  {
   "cell_type": "code",
   "execution_count": 9,
   "metadata": {},
   "outputs": [
    {
     "data": {
      "image/png": "[encoded data removed]",
      "text/plain": [
       "<Figure size 600x400 with 1 Axes>"
      ]
     },
     "metadata": {},
     "output_type": "display_data"
    },
    {
     "data": {
      "text/html": [
       "<div>\n",
       "<style scoped>\n",
       "    .dataframe tbody tr th:only-of-type {\n",
       "        vertical-align: middle;\n",
       "    }\n",
       "\n",
       "    .dataframe tbody tr th {\n",
       "        vertical-align: top;\n",
       "    }\n",
       "\n",
       "    .dataframe thead th {\n",
       "        text-align: right;\n",
       "    }\n",
       "</style>\n",
       "<table border=\"1\" class=\"dataframe\">\n",
       "  <thead>\n",
       "    <tr style=\"text-align: right;\">\n",
       "      <th></th>\n",
       "      <th>feature</th>\n",
       "      <th>importance</th>\n",
       "    </tr>\n",
       "  </thead>\n",
       "  <tbody>\n",
       "    <tr>\n",
       "      <th>0</th>\n",
       "      <td>Z_over_Y</td>\n",
       "      <td>0.207889</td>\n",
       "    </tr>\n",
       "    <tr>\n",
       "      <th>1</th>\n",
       "      <td>Z_over_X</td>\n",
       "      <td>0.157888</td>\n",
       "    </tr>\n",
       "    <tr>\n",
       "      <th>2</th>\n",
       "      <td>peak_abs_Z</td>\n",
       "      <td>0.144077</td>\n",
       "    </tr>\n",
       "    <tr>\n",
       "      <th>3</th>\n",
       "      <td>duration_ms</td>\n",
       "      <td>0.116959</td>\n",
       "    </tr>\n",
       "    <tr>\n",
       "      <th>4</th>\n",
       "      <td>sign_Z_at_peak</td>\n",
       "      <td>0.116709</td>\n",
       "    </tr>\n",
       "    <tr>\n",
       "      <th>5</th>\n",
       "      <td>X_over_Y</td>\n",
       "      <td>0.099075</td>\n",
       "    </tr>\n",
       "    <tr>\n",
       "      <th>6</th>\n",
       "      <td>peak_abs_X</td>\n",
       "      <td>0.084931</td>\n",
       "    </tr>\n",
       "    <tr>\n",
       "      <th>7</th>\n",
       "      <td>peak_abs_Y</td>\n",
       "      <td>0.072472</td>\n",
       "    </tr>\n",
       "  </tbody>\n",
       "</table>\n",
       "</div>"
      ],
      "text/plain": [
       "          feature  importance\n",
       "0        Z_over_Y    0.207889\n",
       "1        Z_over_X    0.157888\n",
       "2      peak_abs_Z    0.144077\n",
       "3     duration_ms    0.116959\n",
       "4  sign_Z_at_peak    0.116709\n",
       "5        X_over_Y    0.099075\n",
       "6      peak_abs_X    0.084931\n",
       "7      peak_abs_Y    0.072472"
      ]
     },
     "execution_count": 9,
     "metadata": {},
     "output_type": "execute_result"
    }
   ],
   "source": [
    "importances = clf.feature_importances_\n",
    "sorted_idx = np.argsort(importances)[::-1]\n",
    "\n",
    "plt.figure(figsize=(6,4))\n",
    "plt.bar([feature_cols[i] for i in sorted_idx], importances[sorted_idx])\n",
    "plt.xticks(rotation=45, ha='right')\n",
    "plt.ylabel(\"Importance (Random Forest)\")\n",
    "plt.title(\"Feature Importances\")\n",
    "plt.tight_layout()\n",
    "plt.show()\n",
    "\n",
    "feature_ranking = pd.DataFrame({\n",
    "    'feature': [feature_cols[i] for i in sorted_idx],\n",
    "    'importance': importances[sorted_idx]\n",
    "})\n",
    "feature_ranking"
   ]
  },
  {
   "cell_type": "markdown",
   "metadata": {},
   "source": [
    "## 7. Save the trained model\n"
   ]
  },
  {
   "cell_type": "code",
   "execution_count": 12,
   "metadata": {},
   "outputs": [
    {
     "name": "stdout",
     "output_type": "stream",
     "text": [
      "Saved model to: ../processed/models/baseline_random_forest.pkl\n"
     ]
    }
   ],
   "source": [
    "import joblib\n",
    "\n",
    "MODEL_OUT_PATH = \"../processed/models/baseline_random_forest.pkl\"\n",
    "joblib.dump({\n",
    "    'model': clf,\n",
    "    'feature_cols': feature_cols,\n",
    "    'classes': clf.classes_.tolist()\n",
    "}, MODEL_OUT_PATH)\n",
    "\n",
    "print(\"Saved model to:\", MODEL_OUT_PATH)"
   ]
  }
 ],
 "metadata": {
  "kernelspec": {
   "display_name": ".venv",
   "language": "python",
   "name": "python3"
  },
  "language_info": {
   "codemirror_mode": {
    "name": "ipython",
    "version": 3
   },
   "file_extension": ".py",
   "mimetype": "text/x-python",
   "name": "python",
   "nbconvert_exporter": "python",
   "pygments_lexer": "ipython3",
   "version": "3.9.6"
  }
 },
 "nbformat": 4,
 "nbformat_minor": 5
}
